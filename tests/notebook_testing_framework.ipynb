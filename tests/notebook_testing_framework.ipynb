{
 "cells": [
  {
   "cell_type": "markdown",
   "metadata": {},
   "source": [
    "This is based off Duncan Johnstone's notebook used during a presentation in Trondheim 2017"
   ]
  },
  {
   "cell_type": "code",
   "execution_count": 3,
   "metadata": {},
   "outputs": [],
   "source": [
    "%matplotlib tk\n",
    "import numpy as np\n",
    "import hyperspy.api as hs\n",
    "import pycrystem as pc\n",
    "import pymatgen as pmg\n",
    "from pycrystem.indexation_generator import IndexationGenerator\n",
    "from scipy.constants import pi"
   ]
  },
  {
   "cell_type": "code",
   "execution_count": 4,
   "metadata": {
    "collapsed": true
   },
   "outputs": [],
   "source": [
    "si = pmg.Element(\"Si\")\n",
    "lattice = pmg.Lattice.cubic(5.431)\n",
    "silicon = pmg.Structure.from_spacegroup(\"Fd-3m\",lattice, [si], [[0, 0, 0]])"
   ]
  },
  {
   "cell_type": "code",
   "execution_count": 5,
   "metadata": {
    "collapsed": true
   },
   "outputs": [],
   "source": [
    "from pymatgen.transformations.standard_transformations import RotationTransformation\n",
    "\n",
    "size = 256\n",
    "\n",
    "radius=1.5\n",
    "ediff = pc.ElectronDiffractionCalculator(300., 0.025)\n",
    "\n",
    "rotaxis = [0, 0, 1]\n",
    "thetas = np.arange(0, 45, 1)\n",
    "\n",
    "data_silicon = []\n",
    "for theta in thetas:\n",
    "    rot = RotationTransformation(rotaxis, theta)\n",
    "    sieg = rot.apply_transformation(silicon)\n",
    "    diff_dat = ediff.calculate_ed_data(sieg, radius)\n",
    "    dpi = diff_dat.as_signal(256, 0.03, 1.2)\n",
    "    data_silicon.append(dpi.data)\n",
    "    \n",
    "data = [data_silicon] * 3 \n",
    "test_data = pc.ElectronDiffraction(data)\n",
    "test_data.set_calibration(1.2/128)"
   ]
  },
  {
   "cell_type": "code",
   "execution_count": 6,
   "metadata": {
    "collapsed": true
   },
   "outputs": [],
   "source": [
    "test_data.plot()"
   ]
  },
  {
   "cell_type": "code",
   "execution_count": 8,
   "metadata": {},
   "outputs": [
    {
     "name": "stdout",
     "output_type": "stream",
     "text": [
      "Help on ElectronDiffractionCalculator in module pycrystem.diffraction_generator object:\n",
      "\n",
      "class ElectronDiffractionCalculator(builtins.object)\n",
      " |  Computes electron diffraction patterns for a crystal structure.\n",
      " |  \n",
      " |  1. Calculate reciprocal lattice of structure. Find all reciprocal points\n",
      " |     within the limiting sphere given by :math:`\\frac{2}{\\lambda}`.\n",
      " |  \n",
      " |  2. For each reciprocal point :math:`\\mathbf{g_{hkl}}` corresponding to\n",
      " |     lattice plane :math:`(hkl)`, compute the Bragg condition\n",
      " |     :math:`\\sin(\\theta) = \\frac{\\lambda}{2d_{hkl}}`\n",
      " |  \n",
      " |  3. The intensity of each reflection is then given in the kinematic\n",
      " |     approximation as the modulus square of the structure factor.\n",
      " |     :math:`I_{hkl} = F_{hkl}F_{hkl}^*`\n",
      " |  \n",
      " |  Parameters\n",
      " |  ----------\n",
      " |  accelerating_voltage : float\n",
      " |      The accelerating voltage of the microscope in kV.\n",
      " |  max_excitation_error : float\n",
      " |      The maximum extent of the relrods in reciprocal angstroms. Typically\n",
      " |      equal to 1/{specimen thickness}.\n",
      " |  debye_waller_factors : dict of str : float\n",
      " |      Maps element names to their temperature-dependent Debye-Waller factors.\n",
      " |  \n",
      " |  Methods defined here:\n",
      " |  \n",
      " |  __init__(self, accelerating_voltage, max_excitation_error, debye_waller_factors=None)\n",
      " |      Initialize self.  See help(type(self)) for accurate signature.\n",
      " |  \n",
      " |  calculate_ed_data(self, structure, reciprocal_radius)\n",
      " |      Calculates the Electron Diffraction data for a structure.\n",
      " |      \n",
      " |      Parameters\n",
      " |      ----------\n",
      " |      structure : Structure\n",
      " |          The structure for which to derive the diffraction pattern. Note that\n",
      " |          the structure must be rotated to the appropriate orientation.\n",
      " |      reciprocal_radius : float\n",
      " |          The maximum radius of the sphere of reciprocal space to sample, in\n",
      " |          reciprocal angstroms.\n",
      " |      \n",
      " |      Returns\n",
      " |      -------\n",
      " |      DiffractionSimulation\n",
      " |          The data associated with this structure and diffraction setup.\n",
      " |  \n",
      " |  ----------------------------------------------------------------------\n",
      " |  Data descriptors defined here:\n",
      " |  \n",
      " |  __dict__\n",
      " |      dictionary for instance variables (if defined)\n",
      " |  \n",
      " |  __weakref__\n",
      " |      list of weak references to the object (if defined)\n",
      "\n"
     ]
    }
   ],
   "source": [
    "help(ediff)"
   ]
  },
  {
   "cell_type": "code",
   "execution_count": null,
   "metadata": {
    "collapsed": true
   },
   "outputs": [],
   "source": []
  }
 ],
 "metadata": {
  "kernelspec": {
   "display_name": "Python 3",
   "language": "python",
   "name": "python3"
  },
  "language_info": {
   "codemirror_mode": {
    "name": "ipython",
    "version": 3
   },
   "file_extension": ".py",
   "mimetype": "text/x-python",
   "name": "python",
   "nbconvert_exporter": "python",
   "pygments_lexer": "ipython3",
   "version": "3.6.2"
  }
 },
 "nbformat": 4,
 "nbformat_minor": 2
}
